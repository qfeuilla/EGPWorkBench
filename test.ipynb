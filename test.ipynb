{
 "cells": [
  {
   "cell_type": "code",
   "execution_count": 4,
   "metadata": {},
   "outputs": [],
   "source": [
    "from common.env.procgen_wrappers import *\n",
    "from common.logger import Logger\n",
    "from common.storage import Storage\n",
    "from common.model_target import NatureModel, ImpalaModelTarget\n",
    "from common.policy import CategoricalPolicy\n",
    "from common import set_global_seeds, set_global_log_levels\n",
    "\n",
    "import os, time, yaml, argparse\n",
    "import gym\n",
    "from procgen import ProcgenEnv\n",
    "import random\n",
    "import torch\n",
    "\n",
    "device = torch.device('cuda')"
   ]
  },
  {
   "cell_type": "code",
   "execution_count": 6,
   "metadata": {},
   "outputs": [
    {
     "name": "stdout",
     "output_type": "stream",
     "text": [
      "[LOADING HYPERPARAMETERS...]\n",
      "algo : ppo\n",
      "n_envs : 128\n",
      "n_steps : 256\n",
      "epoch : 3\n",
      "mini_batch_per_epoch : 8\n",
      "mini_batch_size : 2048\n",
      "gamma : 0.999\n",
      "lmbda : 0.95\n",
      "learning_rate : 0.0005\n",
      "grad_clip_norm : 0.5\n",
      "eps_clip : 0.2\n",
      "value_coef : 0.5\n",
      "entropy_coef : 0.01\n",
      "normalize_adv : True\n",
      "normalize_rew : True\n",
      "use_gae : True\n",
      "architecture : impala\n",
      "recurrent : False\n",
      "INITIALIZAING ENVIRONMENTS...\n",
      "INITIALIZAING LOGGER...\n",
      "INTIALIZING MODEL...\n"
     ]
    }
   ],
   "source": [
    "exp_name = \"test_exp\"\n",
    "env_name = \"coinrun\"\n",
    "start_level = 0\n",
    "num_levels = 0\n",
    "distribution_mode = \"easy\"\n",
    "param_name = \"easy-200\"\n",
    "device = \"cuda\"\n",
    "gpu_device = 0\n",
    "num_timesteps = 1\n",
    "seed = 42\n",
    "log_level = 40\n",
    "num_checkpoints = 0\n",
    "\n",
    "set_global_seeds(seed)\n",
    "set_global_log_levels(log_level)\n",
    "\n",
    "####################\n",
    "## HYPERPARAMETERS #\n",
    "####################\n",
    "print('[LOADING HYPERPARAMETERS...]')\n",
    "with open('hyperparams/procgen/config.yml', 'r') as f:\n",
    "    hyperparameters = yaml.safe_load(f)[param_name]\n",
    "for key, value in hyperparameters.items():\n",
    "    print(key, ':', value)\n",
    "\n",
    "############\n",
    "## DEVICE ##\n",
    "############\n",
    "os.environ[\"CUDA_VISIBLE_DEVICES\"] = str(gpu_device)\n",
    "device = torch.device('cuda')\n",
    "\n",
    "#################\n",
    "## ENVIRONMENT ##\n",
    "#################\n",
    "print('INITIALIZAING ENVIRONMENTS...')\n",
    "n_steps = hyperparameters.get('n_steps', 256)\n",
    "n_envs = hyperparameters.get('n_envs', 64)\n",
    "# By default, pytorch utilizes multi-threaded cpu\n",
    "# Procgen is able to handle thousand of steps on a single core\n",
    "envs = []\n",
    "\n",
    "torch.set_num_threads(4)\n",
    "for i in range(1):\n",
    "    env = ProcgenEnv(num_envs=n_envs,\n",
    "                    env_name=env_name,\n",
    "                    start_level=start_level,\n",
    "                    num_levels=num_levels,\n",
    "                    distribution_mode=distribution_mode,\n",
    "                    game_asset_index=i,\n",
    "                    )\n",
    "    normalize_rew = hyperparameters.get('normalize_rew', True)\n",
    "    env = VecExtractDictObs(env, \"rgb\")\n",
    "    if normalize_rew:\n",
    "        env = VecNormalize(env, ob=False) # normalizing returns, but not the img frames.\n",
    "    env = TransposeFrame(env)\n",
    "    env = ScaledFloatFrame(env)\n",
    "    envs.append(env)\n",
    "\n",
    "############\n",
    "## LOGGER ##\n",
    "############\n",
    "print('INITIALIZAING LOGGER...')\n",
    "logdir = 'procgen/' + env_name + '/' + exp_name + '/' + 'seed' + '_' + \\\n",
    "            str(seed) + '_' + time.strftime(\"%d-%m-%Y_%H-%M-%S\")\n",
    "logdir = os.path.join('logs', logdir)\n",
    "if not (os.path.exists(logdir)):\n",
    "    os.makedirs(logdir)\n",
    "logger = Logger(n_envs, logdir)\n",
    "\n",
    "###########\n",
    "## MODEL ##\n",
    "###########\n",
    "print('INTIALIZING MODEL...')\n",
    "observation_space = envs[0].observation_space\n",
    "observation_shape = observation_space.shape\n",
    "architecture = hyperparameters.get('architecture', 'impala')\n",
    "in_channels = observation_shape[0]\n",
    "action_space = envs[0].action_space\n",
    "\n",
    "# Model architecture\n",
    "if architecture == 'nature':\n",
    "    model = NatureModel(in_channels=in_channels)\n",
    "elif architecture == 'impala':\n",
    "    model = ImpalaModelTarget(in_channels=in_channels)"
   ]
  },
  {
   "cell_type": "code",
   "execution_count": 7,
   "metadata": {},
   "outputs": [
    {
     "name": "stdout",
     "output_type": "stream",
     "text": [
      "INITIALIZAING STORAGE...\n",
      "INTIALIZING AGENT...\n"
     ]
    }
   ],
   "source": [
    "\n",
    "# Discrete action space\n",
    "recurrent = hyperparameters.get('recurrent', False)\n",
    "if isinstance(action_space, gym.spaces.Discrete):\n",
    "    action_size = action_space.n\n",
    "    policy = CategoricalPolicy(model, recurrent, action_size)\n",
    "else:\n",
    "    raise NotImplementedError\n",
    "policy.to(device)\n",
    "\n",
    "#############\n",
    "## STORAGE ##\n",
    "#############\n",
    "print('INITIALIZAING STORAGE...')\n",
    "hidden_state_dim = model.output_dim\n",
    "storage = Storage(observation_shape, hidden_state_dim, n_steps, n_envs, device)\n",
    "\n",
    "###########\n",
    "## AGENT ##\n",
    "###########\n",
    "print('INTIALIZING AGENT...')\n",
    "algo = hyperparameters.get('algo', 'ppo')\n",
    "if algo == 'ppo':\n",
    "    from agents.ppo import PPO as AGENT\n",
    "else:\n",
    "    raise NotImplementedError\n",
    "agent = AGENT(envs, policy, logger, storage, device, num_checkpoints, **hyperparameters)"
   ]
  },
  {
   "cell_type": "code",
   "execution_count": 8,
   "metadata": {},
   "outputs": [
    {
     "data": {
      "text/plain": [
       "<All keys matched successfully>"
      ]
     },
     "execution_count": 8,
     "metadata": {},
     "output_type": "execute_result"
    }
   ],
   "source": [
    "agent.policy.load_state_dict(torch.load(\"logs/procgen/coinrun/easy-run-200/seed_5116_04-12-2022_09-08-16/model_2523136.pth\")[\"state_dict\"])"
   ]
  },
  {
   "cell_type": "code",
   "execution_count": 11,
   "metadata": {},
   "outputs": [
    {
     "ename": "AttributeError",
     "evalue": "'ToBaselinesVecEnv' object has no attribute 'get_images'",
     "output_type": "error",
     "traceback": [
      "\u001b[0;31m---------------------------------------------------------------------------\u001b[0m",
      "\u001b[0;31mAttributeError\u001b[0m                            Traceback (most recent call last)",
      "Cell \u001b[0;32mIn[11], line 1\u001b[0m\n\u001b[0;32m----> 1\u001b[0m agent\u001b[39m.\u001b[39;49menv\u001b[39m.\u001b[39;49mget_images()\n",
      "File \u001b[0;32m~/Desktop/Explicit_Goal_Pointer/EGPWorkBench/common/env/procgen_wrappers.py:180\u001b[0m, in \u001b[0;36mVecEnvWrapper.get_images\u001b[0;34m(self)\u001b[0m\n\u001b[1;32m    179\u001b[0m \u001b[39mdef\u001b[39;00m \u001b[39mget_images\u001b[39m(\u001b[39mself\u001b[39m):\n\u001b[0;32m--> 180\u001b[0m     \u001b[39mreturn\u001b[39;00m \u001b[39mself\u001b[39;49m\u001b[39m.\u001b[39;49mvenv\u001b[39m.\u001b[39;49mget_images()\n",
      "File \u001b[0;32m~/Desktop/Explicit_Goal_Pointer/EGPWorkBench/common/env/procgen_wrappers.py:180\u001b[0m, in \u001b[0;36mVecEnvWrapper.get_images\u001b[0;34m(self)\u001b[0m\n\u001b[1;32m    179\u001b[0m \u001b[39mdef\u001b[39;00m \u001b[39mget_images\u001b[39m(\u001b[39mself\u001b[39m):\n\u001b[0;32m--> 180\u001b[0m     \u001b[39mreturn\u001b[39;00m \u001b[39mself\u001b[39;49m\u001b[39m.\u001b[39;49mvenv\u001b[39m.\u001b[39;49mget_images()\n",
      "    \u001b[0;31m[... skipping similar frames: VecEnvWrapper.get_images at line 180 (1 times)]\u001b[0m\n",
      "File \u001b[0;32m~/Desktop/Explicit_Goal_Pointer/EGPWorkBench/common/env/procgen_wrappers.py:180\u001b[0m, in \u001b[0;36mVecEnvWrapper.get_images\u001b[0;34m(self)\u001b[0m\n\u001b[1;32m    179\u001b[0m \u001b[39mdef\u001b[39;00m \u001b[39mget_images\u001b[39m(\u001b[39mself\u001b[39m):\n\u001b[0;32m--> 180\u001b[0m     \u001b[39mreturn\u001b[39;00m \u001b[39mself\u001b[39;49m\u001b[39m.\u001b[39;49mvenv\u001b[39m.\u001b[39;49mget_images()\n",
      "\u001b[0;31mAttributeError\u001b[0m: 'ToBaselinesVecEnv' object has no attribute 'get_images'"
     ]
    }
   ],
   "source": []
  },
  {
   "cell_type": "code",
   "execution_count": null,
   "metadata": {},
   "outputs": [],
   "source": []
  }
 ],
 "metadata": {
  "kernelspec": {
   "display_name": "Python 3.10.8 ('egp')",
   "language": "python",
   "name": "python3"
  },
  "language_info": {
   "codemirror_mode": {
    "name": "ipython",
    "version": 3
   },
   "file_extension": ".py",
   "mimetype": "text/x-python",
   "name": "python",
   "nbconvert_exporter": "python",
   "pygments_lexer": "ipython3",
   "version": "3.8.15"
  },
  "orig_nbformat": 4,
  "vscode": {
   "interpreter": {
    "hash": "2c578b1ca8798f44f2eb0c6a4b34dbe24febf8932c2b3d83aa592cd1007972ce"
   }
  }
 },
 "nbformat": 4,
 "nbformat_minor": 2
}
